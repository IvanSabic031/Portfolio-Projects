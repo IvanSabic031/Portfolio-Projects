{
 "cells": [
  {
   "cell_type": "code",
   "execution_count": null,
   "id": "222465bd",
   "metadata": {},
   "outputs": [],
   "source": [
    "# You just got hired as the first and only data practitioner at a small business experiencing exponential growth.\n",
    "The company needs more structured processes, guidelines, and standards. \n",
    "Your first mission is to structure the human resources data. \n",
    "The data is currently scattered across teams and files and comes in various formats: Excel files, CSVs, JSON files...\n",
    "\n"
   ]
  },
  {
   "cell_type": "code",
   "execution_count": 56,
   "id": "d0eb4f16-5a99-460d-a5ba-706b7ef0bbe7",
   "metadata": {
    "executionCancelledAt": null,
    "executionTime": 76,
    "id": "bA5ajAmk7XH6",
    "lastExecutedAt": 1700124779372,
    "lastScheduledRunId": null,
    "lastSuccessfullyExecutedCode": "import pandas as pd\n\noffices = pd.read_csv('datasets/office_addresses.csv')\n\naddresses_cols = [\"employee_id\", \"employee_country\", \"employee_city\", \"employee_street\", \"employee_street_number\"]\naddresses = pd.read_excel('datasets/employee_information.xlsx', usecols=addresses_cols)\n\nemergency_contacts_header = [\"employee_id\", \"last_name\", \"first_name\", \"emergency_contact\", \"emergency_contact_number\", \"relationship\"]\nemergency_contacts = pd.read_excel('datasets/employee_information.xlsx', sheet_name='emergency_contacts', header=None, names=emergency_contacts_header)\n\nroles = pd.read_json('datasets/employee_roles.json', orient=\"index\")\n\nemployees = addresses.merge(offices, left_on=\"employee_country\", right_on=\"office_country\", how='left')\n\nemployees = employees.merge(roles, left_on=\"employee_id\", right_index=True, how='left')\n\nemployees = employees.merge(emergency_contacts, on=\"employee_id\")\n\nfor col in [\"office\", \"office_country\", \"office_city\", \"office_street\", \"office_street_number\"]:\n    employees[col].fillna(\"Remote\", inplace=True)\n\nfinal_columns = [\"employee_id\", \"first_name\", \"last_name\", \"employee_country\",\n                 \"employee_city\", \"employee_street\", \"employee_street_number\",\n                 \"emergency_contact\", \"emergency_contact_number\", \"relationship\",\n                 \"monthly_salary\", \"team\", \"title\", \"office\", \"office_country\",\n                 \"office_city\", \"office_street\", \"office_street_number\"]\n\nemployees_final = employees[final_columns]\n\nemployees_final.set_index(\"employee_id\", inplace=True)\n\nprint(employees_final)\n",
    "outputsMetadata": {
     "0": {
      "height": 173,
      "type": "stream"
     }
    }
   },
   "outputs": [
    {
     "name": "stdout",
     "output_type": "stream",
     "text": [
      "            first_name last_name  ...   office_street office_street_number\n",
      "employee_id                       ...                                     \n",
      "A2R5H9             Jax    Hunman  ...  Martelarenlaan                 38.0\n",
      "H8K0L6            Tara      Siff  ...      Old Street                207.0\n",
      "G4R7V0           Gemma     Sagal  ...    Fifth Avenue                350.0\n",
      "M1Z7U9             Tig    Coates  ...          Remote               Remote\n",
      "\n",
      "[4 rows x 17 columns]\n"
     ]
    }
   ],
   "source": [
    "import pandas as pd\n",
    "\n",
    "offices = pd.read_csv('datasets/office_addresses.csv')\n",
    "\n",
    "addresses_cols = [\"employee_id\", \"employee_country\", \"employee_city\", \"employee_street\", \"employee_street_number\"]\n",
    "addresses = pd.read_excel('datasets/employee_information.xlsx', usecols=addresses_cols)\n",
    "\n",
    "emergency_contacts_header = [\"employee_id\", \"last_name\", \"first_name\", \"emergency_contact\", \"emergency_contact_number\", \"relationship\"]\n",
    "emergency_contacts = pd.read_excel('datasets/employee_information.xlsx', sheet_name='emergency_contacts', header=None, names=emergency_contacts_header)\n",
    "\n",
    "roles = pd.read_json('datasets/employee_roles.json', orient=\"index\")\n",
    "\n",
    "employees = addresses.merge(offices, left_on=\"employee_country\", right_on=\"office_country\", how='left')\n",
    "\n",
    "employees = employees.merge(roles, left_on=\"employee_id\", right_index=True, how='left')\n",
    "\n",
    "employees = employees.merge(emergency_contacts, on=\"employee_id\")\n",
    "\n",
    "for col in [\"office\", \"office_country\", \"office_city\", \"office_street\", \"office_street_number\"]:\n",
    "    employees[col].fillna(\"Remote\", inplace=True)\n",
    "\n",
    "final_columns = [\"employee_id\", \"first_name\", \"last_name\", \"employee_country\",\n",
    "                 \"employee_city\", \"employee_street\", \"employee_street_number\",\n",
    "                 \"emergency_contact\", \"emergency_contact_number\", \"relationship\",\n",
    "                 \"monthly_salary\", \"team\", \"title\", \"office\", \"office_country\",\n",
    "                 \"office_city\", \"office_street\", \"office_street_number\"]\n",
    "\n",
    "employees_final = employees[final_columns]\n",
    "\n",
    "employees_final.set_index(\"employee_id\", inplace=True)\n",
    "\n",
    "print(employees_final)\n"
   ]
  }
 ],
 "metadata": {
  "colab": {
   "name": "Welcome to DataCamp Workspaces.ipynb",
   "provenance": []
  },
  "kernelspec": {
   "display_name": "Python 3",
   "language": "python",
   "name": "python3"
  },
  "language_info": {
   "codemirror_mode": {
    "name": "ipython",
    "version": 3
   },
   "file_extension": ".py",
   "mimetype": "text/x-python",
   "name": "python",
   "nbconvert_exporter": "python",
   "pygments_lexer": "ipython3",
   "version": "3.8.8"
  }
 },
 "nbformat": 4,
 "nbformat_minor": 5
}
